{
 "cells": [
  {
   "cell_type": "code",
   "execution_count": 3,
   "id": "422df874-6e59-4b30-9546-afc04419005a",
   "metadata": {},
   "outputs": [
    {
     "name": "stderr",
     "output_type": "stream",
     "text": [
      "[*********************100%***********************]  11 of 11 completed"
     ]
    },
    {
     "name": "stdout",
     "output_type": "stream",
     "text": [
      "        Average Monthly Return  Monthly Standard Deviation\n",
      "Ticker                                                    \n",
      "XLB                   0.010106                    0.062516\n",
      "XLC                   0.010933                    0.059031\n",
      "XLE                   0.010936                    0.103529\n",
      "XLF                   0.010344                    0.065173\n",
      "XLI                   0.011084                    0.062807\n",
      "XLK                   0.018648                    0.063997\n",
      "XLP                   0.008965                    0.040713\n",
      "XLRE                  0.008543                    0.058336\n",
      "XLU                   0.009617                    0.049761\n",
      "XLV                   0.009809                    0.044362\n",
      "XLY                   0.011060                    0.068343\n",
      "\n",
      "Portfolio-Level Metrics:\n",
      "                       Metric     Value\n",
      "0     Expected Monthly Return  0.011143\n",
      "1  Monthly Standard Deviation  0.053968\n",
      "2                Sharpe Ratio  0.160154\n",
      "\n",
      "Portfolio statistics, portfolio-level metrics, and monthly returns have been saved to 'portfolio_statistics.xlsx'\n"
     ]
    },
    {
     "name": "stderr",
     "output_type": "stream",
     "text": [
      "\n"
     ]
    }
   ],
   "source": [
    "import yfinance as yf\n",
    "import pandas as pd\n",
    "import numpy as np\n",
    "\n",
    "# Define the ETFs (as provided in Exhibit I)\n",
    "sector_etfs = ['XLB', 'XLC', 'XLE', 'XLF', 'XLI', 'XLK', 'XLP', 'XLRE', 'XLU', 'XLV', 'XLY']\n",
    "\n",
    "# Download historical monthly data until 2024-09-01\n",
    "start_date = \"2014-01-01\"\n",
    "end_date = \"2024-10-01\"\n",
    "data = yf.download(sector_etfs, start=start_date, end=end_date, interval='1mo')['Adj Close']\n",
    "\n",
    "# Drop rows with NaN values (if any)\n",
    "data = data.dropna()\n",
    "\n",
    "# Ensure datetime index is timezone unaware\n",
    "data.index = data.index.tz_convert(None)\n",
    "\n",
    "# Calculate monthly returns\n",
    "monthly_returns = data.pct_change().dropna()\n",
    "\n",
    "# Calculate average monthly return and standard deviation for each ETF\n",
    "average_monthly_return = monthly_returns.mean()\n",
    "monthly_std_dev = monthly_returns.std()\n",
    "\n",
    "# Create a DataFrame to hold the statistics\n",
    "portfolio_stats = pd.DataFrame({\n",
    "    'Average Monthly Return': average_monthly_return,\n",
    "    'Monthly Standard Deviation': monthly_std_dev\n",
    "})\n",
    "\n",
    "# Calculate portfolio-level metrics\n",
    "initial_weights = np.array([6300000, 4950000, 2250000, 6300000, 4050000, 5400000, 2250000, 6750000, 1350000, 1800000, 3600000]) / 45000000\n",
    "portfolio_return = np.dot(initial_weights, portfolio_stats['Average Monthly Return'])\n",
    "portfolio_variance = np.dot(initial_weights.T, np.dot(monthly_returns.cov(), initial_weights))\n",
    "portfolio_std_dev = np.sqrt(portfolio_variance)\n",
    "rf_rate = 0.03 / 12  # Assume risk-free rate is 3% annual, convert to monthly\n",
    "sharpe_ratio = (portfolio_return - rf_rate) / portfolio_std_dev\n",
    "\n",
    "# Add portfolio-level metrics to the DataFrame\n",
    "portfolio_metrics = pd.DataFrame({\n",
    "    'Metric': ['Expected Monthly Return', 'Monthly Standard Deviation', 'Sharpe Ratio'],\n",
    "    'Value': [portfolio_return, portfolio_std_dev, sharpe_ratio]\n",
    "})\n",
    "\n",
    "# Display the results\n",
    "print(portfolio_stats)\n",
    "print(\"\\nPortfolio-Level Metrics:\")\n",
    "print(portfolio_metrics)\n",
    "\n",
    "# Save to Excel\n",
    "with pd.ExcelWriter(\"oct24_data.xlsx\") as writer:\n",
    "    portfolio_stats.to_excel(writer, sheet_name='Sector Statistics', index=True)\n",
    "    portfolio_metrics.to_excel(writer, sheet_name='Portfolio Metrics', index=False)\n",
    "    monthly_returns.to_excel(writer, sheet_name='Monthly Returns', index=True)\n",
    "\n",
    "# Summary\n",
    "print(\"\\nPortfolio statistics, portfolio-level metrics, and monthly returns have been saved to 'portfolio_statistics.xlsx'\")\n"
   ]
  },
  {
   "cell_type": "code",
   "execution_count": 17,
   "id": "20c189c0-171e-47c3-9c16-9ca65473e508",
   "metadata": {},
   "outputs": [
    {
     "name": "stdout",
     "output_type": "stream",
     "text": [
      "[0.14 0.11 0.05 0.14 0.09 0.12 0.05 0.15 0.03 0.04 0.08]\n"
     ]
    }
   ],
   "source": [
    "print(initial_weights)"
   ]
  },
  {
   "cell_type": "code",
   "execution_count": null,
   "id": "aaf6cbcd-f002-4f52-b850-68100c5873fe",
   "metadata": {},
   "outputs": [],
   "source": []
  },
  {
   "cell_type": "code",
   "execution_count": null,
   "id": "a71c7791-24cf-4c71-8644-006220a7588d",
   "metadata": {},
   "outputs": [],
   "source": []
  }
 ],
 "metadata": {
  "kernelspec": {
   "display_name": "Python 3 (ipykernel)",
   "language": "python",
   "name": "python3"
  },
  "language_info": {
   "codemirror_mode": {
    "name": "ipython",
    "version": 3
   },
   "file_extension": ".py",
   "mimetype": "text/x-python",
   "name": "python",
   "nbconvert_exporter": "python",
   "pygments_lexer": "ipython3",
   "version": "3.12.4"
  }
 },
 "nbformat": 4,
 "nbformat_minor": 5
}
